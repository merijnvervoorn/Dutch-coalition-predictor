{
 "cells": [
  {
   "cell_type": "code",
   "execution_count": 1,
   "metadata": {},
   "outputs": [
    {
     "name": "stdout",
     "output_type": "stream",
     "text": [
      "Requirement already satisfied: top2vec in /Users/reginajarillo/anaconda3/lib/python3.11/site-packages (1.0.36)\n",
      "Requirement already satisfied: numpy>=1.20.0 in /Users/reginajarillo/anaconda3/lib/python3.11/site-packages (from top2vec) (1.24.4)\n",
      "Requirement already satisfied: pandas in /Users/reginajarillo/anaconda3/lib/python3.11/site-packages (from top2vec) (1.5.3)\n",
      "Requirement already satisfied: scikit-learn>=1.2.0 in /Users/reginajarillo/anaconda3/lib/python3.11/site-packages (from top2vec) (1.6.1)\n",
      "Requirement already satisfied: gensim>=4.0.0 in /Users/reginajarillo/anaconda3/lib/python3.11/site-packages (from top2vec) (4.3.0)\n",
      "Requirement already satisfied: umap-learn>=0.5.1 in /Users/reginajarillo/anaconda3/lib/python3.11/site-packages (from top2vec) (0.5.7)\n",
      "Requirement already satisfied: hdbscan>=0.8.27 in /Users/reginajarillo/anaconda3/lib/python3.11/site-packages (from top2vec) (0.8.40)\n",
      "Requirement already satisfied: wordcloud in /Users/reginajarillo/anaconda3/lib/python3.11/site-packages (from top2vec) (1.9.4)\n",
      "Requirement already satisfied: transformers in /Users/reginajarillo/anaconda3/lib/python3.11/site-packages (from top2vec) (4.47.0)\n",
      "Requirement already satisfied: tqdm in /Users/reginajarillo/anaconda3/lib/python3.11/site-packages (from top2vec) (4.65.0)\n",
      "Requirement already satisfied: scipy>=1.7.0 in /Users/reginajarillo/anaconda3/lib/python3.11/site-packages (from gensim>=4.0.0->top2vec) (1.10.1)\n",
      "Requirement already satisfied: smart-open>=1.8.1 in /Users/reginajarillo/anaconda3/lib/python3.11/site-packages (from gensim>=4.0.0->top2vec) (5.2.1)\n",
      "Requirement already satisfied: FuzzyTM>=0.4.0 in /Users/reginajarillo/anaconda3/lib/python3.11/site-packages (from gensim>=4.0.0->top2vec) (2.0.9)\n",
      "Requirement already satisfied: joblib>=1.0 in /Users/reginajarillo/anaconda3/lib/python3.11/site-packages (from hdbscan>=0.8.27->top2vec) (1.2.0)\n",
      "Requirement already satisfied: threadpoolctl>=3.1.0 in /Users/reginajarillo/anaconda3/lib/python3.11/site-packages (from scikit-learn>=1.2.0->top2vec) (3.5.0)\n",
      "Requirement already satisfied: numba>=0.51.2 in /Users/reginajarillo/anaconda3/lib/python3.11/site-packages (from umap-learn>=0.5.1->top2vec) (0.57.0)\n",
      "Requirement already satisfied: pynndescent>=0.5 in /Users/reginajarillo/anaconda3/lib/python3.11/site-packages (from umap-learn>=0.5.1->top2vec) (0.5.13)\n",
      "Requirement already satisfied: python-dateutil>=2.8.1 in /Users/reginajarillo/anaconda3/lib/python3.11/site-packages (from pandas->top2vec) (2.8.2)\n",
      "Requirement already satisfied: pytz>=2020.1 in /Users/reginajarillo/anaconda3/lib/python3.11/site-packages (from pandas->top2vec) (2022.7)\n",
      "Requirement already satisfied: filelock in /Users/reginajarillo/anaconda3/lib/python3.11/site-packages (from transformers->top2vec) (3.9.0)\n",
      "Requirement already satisfied: huggingface-hub<1.0,>=0.24.0 in /Users/reginajarillo/anaconda3/lib/python3.11/site-packages (from transformers->top2vec) (0.26.3)\n",
      "Requirement already satisfied: packaging>=20.0 in /Users/reginajarillo/anaconda3/lib/python3.11/site-packages (from transformers->top2vec) (23.0)\n",
      "Requirement already satisfied: pyyaml>=5.1 in /Users/reginajarillo/anaconda3/lib/python3.11/site-packages (from transformers->top2vec) (6.0)\n",
      "Requirement already satisfied: regex!=2019.12.17 in /Users/reginajarillo/anaconda3/lib/python3.11/site-packages (from transformers->top2vec) (2022.7.9)\n",
      "Requirement already satisfied: requests in /Users/reginajarillo/anaconda3/lib/python3.11/site-packages (from transformers->top2vec) (2.32.3)\n",
      "Requirement already satisfied: tokenizers<0.22,>=0.21 in /Users/reginajarillo/anaconda3/lib/python3.11/site-packages (from transformers->top2vec) (0.21.0)\n",
      "Requirement already satisfied: safetensors>=0.4.1 in /Users/reginajarillo/anaconda3/lib/python3.11/site-packages (from transformers->top2vec) (0.4.5)\n",
      "Requirement already satisfied: pillow in /Users/reginajarillo/anaconda3/lib/python3.11/site-packages (from wordcloud->top2vec) (9.4.0)\n",
      "Requirement already satisfied: matplotlib in /Users/reginajarillo/anaconda3/lib/python3.11/site-packages (from wordcloud->top2vec) (3.7.1)\n",
      "Requirement already satisfied: pyfume in /Users/reginajarillo/anaconda3/lib/python3.11/site-packages (from FuzzyTM>=0.4.0->gensim>=4.0.0->top2vec) (0.3.4)\n",
      "Requirement already satisfied: fsspec>=2023.5.0 in /Users/reginajarillo/anaconda3/lib/python3.11/site-packages (from huggingface-hub<1.0,>=0.24.0->transformers->top2vec) (2024.10.0)\n",
      "Requirement already satisfied: typing-extensions>=3.7.4.3 in /Users/reginajarillo/anaconda3/lib/python3.11/site-packages (from huggingface-hub<1.0,>=0.24.0->transformers->top2vec) (4.12.2)\n",
      "Requirement already satisfied: llvmlite<0.41,>=0.40.0dev0 in /Users/reginajarillo/anaconda3/lib/python3.11/site-packages (from numba>=0.51.2->umap-learn>=0.5.1->top2vec) (0.40.0)\n",
      "Requirement already satisfied: six>=1.5 in /Users/reginajarillo/anaconda3/lib/python3.11/site-packages (from python-dateutil>=2.8.1->pandas->top2vec) (1.16.0)\n",
      "Requirement already satisfied: contourpy>=1.0.1 in /Users/reginajarillo/anaconda3/lib/python3.11/site-packages (from matplotlib->wordcloud->top2vec) (1.0.5)\n",
      "Requirement already satisfied: cycler>=0.10 in /Users/reginajarillo/anaconda3/lib/python3.11/site-packages (from matplotlib->wordcloud->top2vec) (0.11.0)\n",
      "Requirement already satisfied: fonttools>=4.22.0 in /Users/reginajarillo/anaconda3/lib/python3.11/site-packages (from matplotlib->wordcloud->top2vec) (4.25.0)\n",
      "Requirement already satisfied: kiwisolver>=1.0.1 in /Users/reginajarillo/anaconda3/lib/python3.11/site-packages (from matplotlib->wordcloud->top2vec) (1.4.4)\n",
      "Requirement already satisfied: pyparsing>=2.3.1 in /Users/reginajarillo/anaconda3/lib/python3.11/site-packages (from matplotlib->wordcloud->top2vec) (3.0.9)\n",
      "Requirement already satisfied: charset-normalizer<4,>=2 in /Users/reginajarillo/anaconda3/lib/python3.11/site-packages (from requests->transformers->top2vec) (2.0.4)\n",
      "Requirement already satisfied: idna<4,>=2.5 in /Users/reginajarillo/anaconda3/lib/python3.11/site-packages (from requests->transformers->top2vec) (2.10)\n",
      "Requirement already satisfied: urllib3<3,>=1.21.1 in /Users/reginajarillo/anaconda3/lib/python3.11/site-packages (from requests->transformers->top2vec) (1.26.16)\n",
      "Requirement already satisfied: certifi>=2017.4.17 in /Users/reginajarillo/anaconda3/lib/python3.11/site-packages (from requests->transformers->top2vec) (2023.7.22)\n",
      "Requirement already satisfied: simpful==2.12.0 in /Users/reginajarillo/anaconda3/lib/python3.11/site-packages (from pyfume->FuzzyTM>=0.4.0->gensim>=4.0.0->top2vec) (2.12.0)\n",
      "Requirement already satisfied: fst-pso==1.8.1 in /Users/reginajarillo/anaconda3/lib/python3.11/site-packages (from pyfume->FuzzyTM>=0.4.0->gensim>=4.0.0->top2vec) (1.8.1)\n",
      "Requirement already satisfied: miniful in /Users/reginajarillo/anaconda3/lib/python3.11/site-packages (from fst-pso==1.8.1->pyfume->FuzzyTM>=0.4.0->gensim>=4.0.0->top2vec) (0.0.6)\n",
      "\n",
      "\u001b[1m[\u001b[0m\u001b[34;49mnotice\u001b[0m\u001b[1;39;49m]\u001b[0m\u001b[39;49m A new release of pip is available: \u001b[0m\u001b[31;49m24.3.1\u001b[0m\u001b[39;49m -> \u001b[0m\u001b[32;49m25.0.1\u001b[0m\n",
      "\u001b[1m[\u001b[0m\u001b[34;49mnotice\u001b[0m\u001b[1;39;49m]\u001b[0m\u001b[39;49m To update, run: \u001b[0m\u001b[32;49mpip install --upgrade pip\u001b[0m\n"
     ]
    }
   ],
   "source": [
    "! pip install top2vec"
   ]
  },
  {
   "cell_type": "code",
   "execution_count": null,
   "metadata": {},
   "outputs": [],
   "source": [
    "###code to fetch documents from PDF reader"
   ]
  },
  {
   "cell_type": "code",
   "execution_count": null,
   "metadata": {},
   "outputs": [],
   "source": [
    "from top2vec import Top2Vec\n",
    "\n",
    "# Train the Top2Vec model\n",
    "print(\"Training Top2Vec model. This may take a while...\")\n",
    "model = Top2Vec(documents, speed=\"learn\", workers=4)  # Adjust workers based on your system\n",
    "print(\"Model training complete.\")\n"
   ]
  },
  {
   "cell_type": "code",
   "execution_count": null,
   "metadata": {},
   "outputs": [],
   "source": [
    "# Get the number of topics\n",
    "num_topics = model.get_num_topics()\n",
    "print(f\"The model identified {num_topics} topics.\")\n",
    "\n",
    "# Get topic sizes and labels\n",
    "topic_sizes, topic_nums = model.get_topic_sizes()\n",
    "\n",
    "# Display top words for each topic\n",
    "for topic_num in topic_nums:\n",
    "    # Use get_topics() to get all topic words and their scores\n",
    "    topics = model.get_topics()\n",
    "    \n",
    "    # Access the words and scores for the specific topic\n",
    "    topic_words = topics[0][topic_num]  # words for the specific topic\n",
    "    topic_scores = topics[1][topic_num]  # scores for the specific topic\n",
    "    \n",
    "    # Print the top 10 words and their corresponding scores\n",
    "    print(f\"\\nTopic {topic_num}:\")\n",
    "    print(\", \".join(topic_words[:35]))  # Top 10 words\n",
    "    print(\", \".join([f\"{score:.4f}\" for score in topic_scores[:10]]))  # Top 10 word scores"
   ]
  },
  {
   "cell_type": "code",
   "execution_count": null,
   "metadata": {},
   "outputs": [],
   "source": [
    "####### VISUALIZATION OF THE TOPICS AND THEIR PROXIMITY ####\n",
    "\n",
    "import umap\n",
    "import matplotlib.pyplot as plt\n",
    "\n",
    "# Get document embeddings and topic vectors\n",
    "document_embeddings = model.document_vectors  # or model.document_embeddings\n",
    "topic_embeddings = model.topic_vectors\n",
    "\n",
    "# Reduce dimensions for visualization using UMAP\n",
    "umap_model = umap.UMAP(n_neighbors=15, min_dist=0.1, metric='correlation')\n",
    "umap_embeddings = umap_model.fit_transform(document_embeddings)\n",
    "\n",
    "# Plot the documents\n",
    "plt.figure(figsize=(10, 8))\n",
    "plt.scatter(umap_embeddings[:, 0], umap_embeddings[:, 1], alpha=0.5, c='blue', s=10)\n",
    "plt.title(\"Document Embeddings\")\n",
    "plt.show()\n",
    "\n",
    "# Reduce dimensions for topic embeddings\n",
    "umap_topic_embeddings = umap_model.fit_transform(topic_embeddings)\n",
    "\n",
    "# Plot the topics\n",
    "plt.figure(figsize=(10, 8))\n",
    "plt.scatter(umap_topic_embeddings[:, 0], umap_topic_embeddings[:, 1], alpha=0.5, c='red', s=100)\n",
    "plt.title(\"Topic Embeddings\")\n",
    "plt.show()"
   ]
  },
  {
   "cell_type": "code",
   "execution_count": null,
   "metadata": {},
   "outputs": [],
   "source": [
    "# Generate and display a word cloud for each topic\n",
    "for topic_num in range(model.get_num_topics()):\n",
    "    model.generate_topic_wordcloud(topic_num)"
   ]
  },
  {
   "cell_type": "code",
   "execution_count": null,
   "metadata": {},
   "outputs": [],
   "source": [
    "####SENTIMENT ANALYSIS POTENTIAL CODE (I suggest diving per political party at first for rough idea)#####\n",
    "\n",
    "from vaderSentiment.vaderSentiment import SentimentIntensityAnalyzer\n",
    "import matplotlib.pyplot as plt\n",
    "\n",
    "# Initialize the VADER sentiment analyzer\n",
    "analyzer = SentimentIntensityAnalyzer()\n",
    "\n",
    "# Step 1: Loop through the first 5 topics\n",
    "for target_topic in range(5):  # Loop through topic 0 to topic 4\n",
    "    print(f\"\\nProcessing Topic {target_topic}...\")\n",
    "\n",
    "    # Step 2: Retrieve documents for the current topic\n",
    "    documents_for_target_topic = []\n",
    "    for i, topic in enumerate(topic_assignments):\n",
    "        if topic == target_topic:\n",
    "            documents_for_target_topic.append(model.documents[i])  # Access the documents from the model\n",
    "    \n",
    "    # Step 3: Print the number of documents associated with this topic\n",
    "    num_documents = len(documents_for_target_topic)\n",
    "    print(f\"Number of documents in Topic {target_topic}: {num_documents}\")\n",
    "\n",
    "    # Step 4: Perform sentiment analysis on the documents for the current topic\n",
    "    sentiment_scores = []\n",
    "    for doc in documents_for_target_topic:\n",
    "        sentiment = analyzer.polarity_scores(doc)  # Get sentiment score\n",
    "        sentiment_scores.append(sentiment['compound'])  # Use the compound score (range from -1 to 1)\n",
    "\n",
    "    # Step 5: Display the sentiment scores for the first few documents\n",
    "    print(f\"\\nSentiment scores for documents in Topic {target_topic}:\")\n",
    "    for i, score in enumerate(sentiment_scores[:5]):  # Display sentiment scores for the first 5 documents\n",
    "        print(f\"Document {i+1}: Sentiment Score = {score}\")\n",
    "\n",
    "    # Step 6: Plot the sentiment distribution for the current topic\n",
    "    plt.figure(figsize=(8, 6))\n",
    "    plt.hist(sentiment_scores, bins=30, color='skyblue', edgecolor='black')\n",
    "    plt.title(f\"Sentiment Distribution for Documents in Topic {target_topic}\")\n",
    "    plt.xlabel(\"Sentiment Score (compound)\")\n",
    "    plt.ylabel(\"Frequency\")\n",
    "    plt.grid(True)\n",
    "    plt.show()"
   ]
  }
 ],
 "metadata": {
  "kernelspec": {
   "display_name": "Python 3",
   "language": "python",
   "name": "python3"
  },
  "language_info": {
   "codemirror_mode": {
    "name": "ipython",
    "version": 3
   },
   "file_extension": ".py",
   "mimetype": "text/x-python",
   "name": "python",
   "nbconvert_exporter": "python",
   "pygments_lexer": "ipython3",
   "version": "3.12.3"
  }
 },
 "nbformat": 4,
 "nbformat_minor": 2
}
