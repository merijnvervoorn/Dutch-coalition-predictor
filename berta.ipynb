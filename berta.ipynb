{
 "cells": [
  {
   "cell_type": "code",
   "execution_count": 2,
   "id": "1e0cd18c",
   "metadata": {},
   "outputs": [],
   "source": [
    "import torch\n",
    "from transformers import AutoModelForSequenceClassification, AutoTokenizer\n",
    "import re"
   ]
  },
  {
   "cell_type": "code",
   "execution_count": 3,
   "id": "e8a4ba47",
   "metadata": {},
   "outputs": [],
   "source": [
    "parties = [\n",
    "    \"PVV\", \"GL-PvdA\", \"VVD\", \"NSC\", \"D66\", \"BBB\", \"CDA\", \"SP\",\n",
    "    \"DENK\", \"PvdD\", \"FVD\", \"SGP\", \"CU\", \"Volt\", \"JA21\"\n",
    "]"
   ]
  },
  {
   "cell_type": "code",
   "execution_count": null,
   "id": "ff10ac96",
   "metadata": {},
   "outputs": [
    {
     "name": "stdout",
     "output_type": "stream",
     "text": [
      "Party speeches have been saved to the folder: party_speeches\n"
     ]
    }
   ],
   "source": [
    "import re\n",
    "from collections import defaultdict\n",
    "import os\n",
    "\n",
    "# Read all .txt files in the \"txt\" folder\n",
    "text = \"\"\n",
    "txt_folder = \"txt\"\n",
    "for filename in os.listdir(txt_folder):\n",
    "    if filename.endswith(\".txt\"):\n",
    "        with open(os.path.join(txt_folder, filename), \"r\", encoding=\"utf-8\") as f:\n",
    "            text += f.read() + \"\\n\"\n",
    "\n",
    "# Match all speaker turns: speaker (PARTY): speech\n",
    "# Capture (party, speech)\n",
    "pattern = re.compile(\n",
    "    r'(?:(?:De heer|Mevrouw)\\s+[^:(]+?)\\s+\\(([^)]+)\\):\\s*'  # Match party name\n",
    "    r'(.*?)(?=(?:De heer|Mevrouw)\\s+[^:(]+?\\s+\\([^)]+\\):|$)',  # Match speech up to next speaker\n",
    "    re.DOTALL\n",
    ")\n",
    "\n",
    "party_speeches = defaultdict(str)\n",
    "\n",
    "for match in pattern.finditer(text):\n",
    "    party = match.group(1).strip()\n",
    "    speech = match.group(2).strip()\n",
    "    party_speeches[party] += speech + ' '\n",
    "\n",
    "# Print the result\n",
    "# Save the result to separate text files for each party\n",
    "output_folder = \"party_speeches\"\n",
    "os.makedirs(output_folder, exist_ok=True)\n",
    "\n",
    "for party, speech in party_speeches.items():\n",
    "    output_file = os.path.join(output_folder, f\"{party}.txt\")\n",
    "    with open(output_file, \"w\", encoding=\"utf-8\") as f:\n",
    "        f.write(speech.strip())\n",
    "print(f\"Party speeches have been saved to the folder: {output_folder}\")\n"
   ]
  },
  {
   "cell_type": "code",
   "execution_count": 2,
   "id": "98eaac32",
   "metadata": {},
   "outputs": [
    {
     "data": {
      "application/vnd.jupyter.widget-view+json": {
       "model_id": "4e752843a2af440eaf8dca81fbb441e4",
       "version_major": 2,
       "version_minor": 0
      },
      "text/plain": [
       "config.json:   0%|          | 0.00/6.04k [00:00<?, ?B/s]"
      ]
     },
     "metadata": {},
     "output_type": "display_data"
    },
    {
     "name": "stderr",
     "output_type": "stream",
     "text": [
      "c:\\Users\\Jacco\\AppData\\Local\\Programs\\Python\\Python39\\lib\\site-packages\\huggingface_hub\\file_download.py:139: UserWarning: `huggingface_hub` cache-system uses symlinks by default to efficiently store duplicated files but your machine does not support them in C:\\Users\\Jacco\\.cache\\huggingface\\hub\\models--manifesto-project--manifestoberta-xlm-roberta-56policy-topics-sentence-2024-1-1. Caching files will still work but in a degraded version that might require more space on your disk. This warning can be disabled by setting the `HF_HUB_DISABLE_SYMLINKS_WARNING` environment variable. For more details, see https://huggingface.co/docs/huggingface_hub/how-to-cache#limitations.\n",
      "To support symlinks on Windows, you either need to activate Developer Mode or to run Python as an administrator. In order to activate developer mode, see this article: https://docs.microsoft.com/en-us/windows/apps/get-started/enable-your-device-for-development\n",
      "  warnings.warn(message)\n"
     ]
    },
    {
     "data": {
      "application/vnd.jupyter.widget-view+json": {
       "model_id": "f93e4c129f644f6e813444c1150e960b",
       "version_major": 2,
       "version_minor": 0
      },
      "text/plain": [
       "model.safetensors:   0%|          | 0.00/2.24G [00:00<?, ?B/s]"
      ]
     },
     "metadata": {},
     "output_type": "display_data"
    },
    {
     "data": {
      "application/vnd.jupyter.widget-view+json": {
       "model_id": "528b0ba08b3c48759e3fc0f7d0afd926",
       "version_major": 2,
       "version_minor": 0
      },
      "text/plain": [
       "tokenizer_config.json:   0%|          | 0.00/25.0 [00:00<?, ?B/s]"
      ]
     },
     "metadata": {},
     "output_type": "display_data"
    },
    {
     "name": "stderr",
     "output_type": "stream",
     "text": [
      "c:\\Users\\Jacco\\AppData\\Local\\Programs\\Python\\Python39\\lib\\site-packages\\huggingface_hub\\file_download.py:139: UserWarning: `huggingface_hub` cache-system uses symlinks by default to efficiently store duplicated files but your machine does not support them in C:\\Users\\Jacco\\.cache\\huggingface\\hub\\models--xlm-roberta-large. Caching files will still work but in a degraded version that might require more space on your disk. This warning can be disabled by setting the `HF_HUB_DISABLE_SYMLINKS_WARNING` environment variable. For more details, see https://huggingface.co/docs/huggingface_hub/how-to-cache#limitations.\n",
      "To support symlinks on Windows, you either need to activate Developer Mode or to run Python as an administrator. In order to activate developer mode, see this article: https://docs.microsoft.com/en-us/windows/apps/get-started/enable-your-device-for-development\n",
      "  warnings.warn(message)\n"
     ]
    },
    {
     "data": {
      "application/vnd.jupyter.widget-view+json": {
       "model_id": "fede99317f1e4cfa97b4795603e7b51a",
       "version_major": 2,
       "version_minor": 0
      },
      "text/plain": [
       "config.json:   0%|          | 0.00/616 [00:00<?, ?B/s]"
      ]
     },
     "metadata": {},
     "output_type": "display_data"
    },
    {
     "data": {
      "application/vnd.jupyter.widget-view+json": {
       "model_id": "b0003e46a8a247779253ed509422196d",
       "version_major": 2,
       "version_minor": 0
      },
      "text/plain": [
       "sentencepiece.bpe.model:   0%|          | 0.00/5.07M [00:00<?, ?B/s]"
      ]
     },
     "metadata": {},
     "output_type": "display_data"
    },
    {
     "data": {
      "application/vnd.jupyter.widget-view+json": {
       "model_id": "22195ffc629442f4b13ff561e9313c18",
       "version_major": 2,
       "version_minor": 0
      },
      "text/plain": [
       "tokenizer.json:   0%|          | 0.00/9.10M [00:00<?, ?B/s]"
      ]
     },
     "metadata": {},
     "output_type": "display_data"
    },
    {
     "name": "stdout",
     "output_type": "stream",
     "text": [
      "{'414 - Economic Orthodoxy': 3.64, '601 - National Way of Life: Positive': 3.22, '702 - Labour Groups: Negative': 3.07, '705 - Underprivileged Minority Groups': 2.62, '703 - Agriculture and Farmers: Positive': 2.55, '405 - Corporatism/ Mixed Economy': 2.43, '104 - Military: Positive': 2.32, '411 - Technology and Infrastructure': 2.26, '410 - Economic Growth: Positive': 2.24, '106 - Peace': 2.22, '415 - Marxist Analysis: Positive': 2.22, '413 - Nationalisation': 2.21, '606 - Civic Mindedness: Positive': 2.19, '203 - Constitutionalism: Positive': 2.09, '605 - Law and Order: Positive': 2.02, '409 - Keynesian Demand Management': 2.01, '503 - Equality: Positive': 2.01, '701 - Labour Groups: Positive': 1.98, '402 - Incentives': 1.96, '401 - Free Market Economy': 1.92, '602 - National Way of Life: Negative': 1.92, '303 - Governmental and Administrative Efficiency': 1.91, '603 - Traditional Morality: Positive': 1.81, '604 - Traditional Morality: Negative': 1.81, '406 - Protectionism: Positive': 1.75, '412 - Controlled Economy': 1.75, '607 - Multiculturalism: Positive': 1.73, '408 - Economic Goals': 1.72, '304 - Political Corruption': 1.71, '102 - Foreign Special Relationships: Negative': 1.7, '305 - Political Authority': 1.69, '506 - Education Expansion': 1.67, '110 - European Community/Union: Negative': 1.63, '505 - Welfare State Limitation': 1.6, '301 - Federalism': 1.59, '101 - Foreign Special Relationships: Positive': 1.58, '504 - Welfare State Expansion': 1.57, '204 - Constitutionalism: Negative': 1.55, '302 - Centralisation': 1.47, '107 - Internationalism: Positive': 1.41, '608 - Multiculturalism: Negative': 1.4, '103 - Anti-Imperialism': 1.36, '109 - Internationalism: Negative': 1.36, '202 - Democracy': 1.36, '502 - Culture: Positive': 1.36, '416 - Anti-Growth Economy: Positive': 1.33, '105 - Military: Negative': 1.26, '704 - Middle Class and Professional Groups': 1.25, '404 - Economic Planning': 1.22, '201 - Freedom and Human Rights': 1.21, '507 - Education Limitation': 1.19, '108 - European Community/Union: Positive': 1.11, '706 - Non-economic Demographic Groups': 1.11, '407 - Protectionism: Negative': 0.96, '403 - Market Regulation': 0.92, '501 - Environmental Protection: Positive': 0.85}\n",
      "414 - Economic Orthodoxy\n"
     ]
    }
   ],
   "source": [
    "model = AutoModelForSequenceClassification.from_pretrained(\"manifesto-project/manifestoberta-xlm-roberta-56policy-topics-sentence-2024-1-1\")\n",
    "tokenizer = AutoTokenizer.from_pretrained(\"xlm-roberta-large\")\n",
    "\n",
    "sentence = \"We will restore funding to the Global Environment Facility and the Intergovernmental Panel on Climate Change, to support critical climate science research around the world\"\n",
    "\n",
    "inputs = tokenizer(sentence,\n",
    "                   return_tensors=\"pt\",\n",
    "                   max_length=200,  #we limited the input to 200 tokens during finetuning\n",
    "                   padding=\"max_length\",\n",
    "                   truncation=True\n",
    "                   )\n",
    "\n",
    "logits = model(**inputs).logits\n",
    "\n",
    "probabilities = torch.softmax(logits, dim=1).tolist()[0]\n",
    "probabilities = {model.config.id2label[index]: round(probability * 100, 2) for index, probability in enumerate(probabilities)}\n",
    "probabilities = dict(sorted(probabilities.items(), key=lambda item: item[1], reverse=True))\n",
    "print(probabilities)\n",
    "# {'501 - Environmental Protection: Positive': 67.56, '411 - Technology and Infrastructure': 14.03, '107 - Internationalism: Positive': 13.58, '416 - Anti-Growth Economy: Positive': 2.24...\n",
    "\n",
    "predicted_class = model.config.id2label[logits.argmax().item()]\n",
    "print(predicted_class)"
   ]
  },
  {
   "cell_type": "code",
   "execution_count": null,
   "id": "01d7e5a6",
   "metadata": {},
   "outputs": [],
   "source": []
  }
 ],
 "metadata": {
  "kernelspec": {
   "display_name": "Python 3",
   "language": "python",
   "name": "python3"
  },
  "language_info": {
   "codemirror_mode": {
    "name": "ipython",
    "version": 3
   },
   "file_extension": ".py",
   "mimetype": "text/x-python",
   "name": "python",
   "nbconvert_exporter": "python",
   "pygments_lexer": "ipython3",
   "version": "3.9.6"
  }
 },
 "nbformat": 4,
 "nbformat_minor": 5
}
