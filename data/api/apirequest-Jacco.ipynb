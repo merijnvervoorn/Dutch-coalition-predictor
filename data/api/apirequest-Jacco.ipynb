{
 "cells": [
  {
   "cell_type": "code",
   "execution_count": 1,
   "metadata": {},
   "outputs": [],
   "source": [
    "import requests\n",
    "import pandas as pd\n",
    "\n",
    "year = 2022"
   ]
  },
  {
   "cell_type": "code",
   "execution_count": 2,
   "metadata": {},
   "outputs": [],
   "source": [
    "url = f'https://gegevensmagazijn.tweedekamer.nl/OData/v4/2.0/Activiteit?$filter=contains(soort,%27plenair%20debat%27)%20and%20Status%20eq%20%27Uitgevoerd%27%20and%20year(Datum)%20eq%20{year}&$count=true'\n",
    "all_debates = []\n",
    "\n",
    "while url:\n",
    "    response = requests.get(url)\n",
    "    data = response.json()\n",
    "    debates = data.get(\"value\", [])\n",
    "\n",
    "    all_debates.extend(debates)\n",
    "\n",
    "    url = data.get(\"@odata.nextLink\", None)\n",
    "\n",
    "df = pd.DataFrame(all_debates)\n",
    "\n",
    "df.to_csv(f\"data/debates_{year}.csv\", index=False)"
   ]
  },
  {
   "cell_type": "code",
   "execution_count": null,
   "metadata": {},
   "outputs": [],
   "source": [
    "url = f'https://gegevensmagazijn.tweedekamer.nl/OData/v4/2.0/Stemming?$filter=year(GewijzigdOp)%20eq%20{year}'\n",
    "all_votings = []\n",
    "while url:\n",
    "    response = requests.get(url)\n",
    "    \n",
    "    data = response.json()\n",
    "    votings = data.get(\"value\", [])\n",
    "    all_votings.extend(votings)\n",
    "\n",
    "    url = data.get(\"@odata.nextLink\", None)\n",
    "\n",
    "df = pd.DataFrame(all_votings)\n",
    "\n",
    "df.to_csv(f\"data/votings_{year}.csv\", index=False)"
   ]
  }
 ],
 "metadata": {
  "kernelspec": {
   "display_name": "Python 3",
   "language": "python",
   "name": "python3"
  },
  "language_info": {
   "codemirror_mode": {
    "name": "ipython",
    "version": 3
   },
   "file_extension": ".py",
   "mimetype": "text/x-python",
   "name": "python",
   "nbconvert_exporter": "python",
   "pygments_lexer": "ipython3",
   "version": "3.9.6"
  }
 },
 "nbformat": 4,
 "nbformat_minor": 2
}
